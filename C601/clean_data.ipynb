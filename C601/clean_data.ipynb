{
 "cells": [
  {
   "cell_type": "code",
   "execution_count": 3,
   "id": "149e1450-a52d-43c4-8800-da97b1fd56a7",
   "metadata": {},
   "outputs": [],
   "source": [
    "import pandas as pd\n",
    "\n",
    "df = pd.read_csv(\"Police_Department_Incident_Reports__2018_to_Present_20250915 - Raw data Police Reports 2024.csv\", index_col=False)"
   ]
  },
  {
   "cell_type": "code",
   "execution_count": 6,
   "id": "c6943c51-4f2a-483a-a7dd-38a57896197c",
   "metadata": {
    "scrolled": true
   },
   "outputs": [
    {
     "data": {
      "text/plain": [
       "Index(['Row ID', 'Incident Datetime', 'Incident Date', 'Incident Time',\n",
       "       'Incident Year', 'Incident Day of Week', 'Report Datetime',\n",
       "       'Incident ID', 'Incident Number', 'CAD Number', 'Report Type Code',\n",
       "       'Report Type Description', 'Filed Online', 'Incident Code',\n",
       "       'Incident Category', 'Incident Subcategory', 'Incident Description',\n",
       "       'Resolution', 'Intersection', 'CNN', 'Police District',\n",
       "       'Analysis Neighborhood', 'Supervisor District',\n",
       "       'Supervisor District 2012', 'Latitude', 'Longitude', 'Point',\n",
       "       'data_as_of', 'data_loaded_at'],\n",
       "      dtype='object')"
      ]
     },
     "execution_count": 6,
     "metadata": {},
     "output_type": "execute_result"
    }
   ],
   "source": [
    "df.columns"
   ]
  },
  {
   "cell_type": "code",
   "execution_count": null,
   "id": "6e19f436-822d-4c58-b930-2a663146cd37",
   "metadata": {},
   "outputs": [],
   "source": [
    "cols = ['Incident Datetime', 'Incident Date', 'Incident Time',\n",
    "       'Incident Year', 'Incident Day of Week', 'Report Datetime',\n",
    "       'Incident ID', 'Incident Number', 'CAD Number', 'Report Type Code',\n",
    "       'Report Type Description', 'Filed Online', 'Incident Code',\n",
    "       'Incident Category', 'Incident Subcategory', 'Incident Description',\n",
    "       'Resolution', 'Intersection', 'Police District',\n",
    "       'Analysis Neighborhood', 'Supervisor District', 'Latitude', 'Longitude', 'Point']"
   ]
  },
  {
   "cell_type": "code",
   "execution_count": null,
   "id": "266a092f-80d4-4a14-bf57-b1bd6225a2b9",
   "metadata": {},
   "outputs": [],
   "source": [
    "df[df['"
   ]
  }
 ],
 "metadata": {
  "kernelspec": {
   "display_name": "Python 3 (ipykernel)",
   "language": "python",
   "name": "python3"
  },
  "language_info": {
   "codemirror_mode": {
    "name": "ipython",
    "version": 3
   },
   "file_extension": ".py",
   "mimetype": "text/x-python",
   "name": "python",
   "nbconvert_exporter": "python",
   "pygments_lexer": "ipython3",
   "version": "3.12.7"
  }
 },
 "nbformat": 4,
 "nbformat_minor": 5
}
