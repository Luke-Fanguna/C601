{
 "cells": [
  {
   "cell_type": "code",
   "execution_count": null,
   "id": "94a872fb-845d-4ac6-b7d0-22e0a7ed98cf",
   "metadata": {
    "scrolled": true
   },
   "outputs": [],
   "source": [
    "import sys\n",
    "!{sys.executable} -m pip install folium"
   ]
  },
  {
   "cell_type": "code",
   "execution_count": null,
   "id": "c1acbcbf-b823-4399-9ebd-0280e7a82716",
   "metadata": {},
   "outputs": [],
   "source": [
    "import pandas as pd\n",
    "df = pd.read_csv('Cleaned Police Incident Data 2024.csv')\n",
    "df = df.dropna(subset=[\"Longitude\", \"Latitude\"])"
   ]
  },
  {
   "cell_type": "code",
   "execution_count": 17,
   "id": "2bf09d8e-11bf-4843-a9ff-e94ba7150e38",
   "metadata": {},
   "outputs": [],
   "source": [
    "violent_crimes = {\n",
    "    \"Assault\",\n",
    "    \"Homicide\",\n",
    "    \"Human Trafficking (A), Commercial Sex Acts\",\n",
    "    \"Human Trafficking (B), Involuntary Servitude\",\n",
    "    \"Rape\",\n",
    "    \"Robbery\",\n",
    "    \"Sex Offense\",\n",
    "    \"Offences Against The Family And Children\",\n",
    "    \"Suicide\",\n",
    "    \"Weapons Carrying Etc\",\n",
    "    \"Weapons Offence\",\n",
    "    \"Weapons Offense\"\n",
    "}\n",
    "\n",
    "non_violent_crimes = {\n",
    "    \"Arson\",\n",
    "    \"Burglary\",\n",
    "    \"Case Closure\",\n",
    "    \"Civil Sidewalks\",\n",
    "    \"Courtesy Report\",\n",
    "    \"Disorderly Conduct\",\n",
    "    \"Drug Offense\",\n",
    "    \"Drug Violation\",\n",
    "    \"Embezzlement\",\n",
    "    \"Fire Report\",\n",
    "    \"Forgery And Counterfeiting\",\n",
    "    \"Fraud\",\n",
    "    \"Gambling\",\n",
    "    \"Larceny Theft\",\n",
    "    \"Liquor Laws\",\n",
    "    \"Lost Property\",\n",
    "    \"Malicious Mischief\",\n",
    "    \"Miscellaneous Investigation\",\n",
    "    \"Missing Person\",\n",
    "    \"Motor Vehicle Theft\",\n",
    "    \"Motor Vehicle Theft?\",\n",
    "    \"Non-Criminal\",\n",
    "    \"Other\",\n",
    "    \"Other Miscellaneous\",\n",
    "    \"Other Offenses\",\n",
    "    \"Prostitution\",\n",
    "    \"Recovered Vehicle\",\n",
    "    \"Stolen Property\",\n",
    "    \"Suspicious\",\n",
    "    \"Suspicious Occ\",\n",
    "    \"Traffic Collision\",\n",
    "    \"Traffic Violation Arrest\",\n",
    "    \"Vandalism\",\n",
    "    \"Vehicle Impounded\",\n",
    "    \"Vehicle Misplaced\",\n",
    "    \"Warrant\"\n",
    "}\n",
    "\n",
    "df[\"crime_type\"] = df[\"Incident Category\"].apply(\n",
    "    lambda x: \"Violent\" if x in violent_crimes else \"Non-Violent\"\n",
    ")"
   ]
  },
  {
   "cell_type": "code",
   "execution_count": 21,
   "id": "355f78a9-e9f7-47d9-9d8c-ba39856b36de",
   "metadata": {},
   "outputs": [],
   "source": [
    "import folium\n",
    "\n",
    "# Center map around SF\n",
    "sf_map = folium.Map(location=[37.7749, -122.4194], zoom_start=12)\n",
    "\n",
    "for _, row in df.iterrows():\n",
    "    if row[\"crime_type\"] == \"Violent\":   # only plot violent crimes\n",
    "        folium.CircleMarker(\n",
    "            location=[row[\"Latitude\"], row[\"Longitude\"]],\n",
    "            radius=1,\n",
    "            color=\"red\",\n",
    "            fill=True,\n",
    "            fill_opacity=0.5,\n",
    "            popup=row[\"Incident Category\"]\n",
    "        ).add_to(sf_map)\n",
    "\n",
    "sf_map.save(\"violent_sf_crimes.html\")\n"
   ]
  },
  {
   "cell_type": "code",
   "execution_count": 22,
   "id": "b3d55cbf-c992-4460-900d-1bdf562c401c",
   "metadata": {},
   "outputs": [],
   "source": [
    "# Center map around SF\n",
    "sf_map = folium.Map(location=[37.7749, -122.4194], zoom_start=12)\n",
    "\n",
    "for _, row in df.iterrows():\n",
    "    if row[\"crime_type\"] == \"Non-Violent\":   # only plot violent crimes\n",
    "        folium.CircleMarker(\n",
    "            location=[row[\"Latitude\"], row[\"Longitude\"]],\n",
    "            radius=1,\n",
    "            color=\"blue\",\n",
    "            fill=True,\n",
    "            fill_opacity=0.5,\n",
    "            popup=row[\"Incident Category\"]\n",
    "        ).add_to(sf_map)\n",
    "\n",
    "sf_map.save(\"nonviolent_sf_crimes.html\")"
   ]
  }
 ],
 "metadata": {
  "kernelspec": {
   "display_name": "Python 3 (ipykernel)",
   "language": "python",
   "name": "python3"
  },
  "language_info": {
   "codemirror_mode": {
    "name": "ipython",
    "version": 3
   },
   "file_extension": ".py",
   "mimetype": "text/x-python",
   "name": "python",
   "nbconvert_exporter": "python",
   "pygments_lexer": "ipython3",
   "version": "3.12.7"
  }
 },
 "nbformat": 4,
 "nbformat_minor": 5
}
